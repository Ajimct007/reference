{
 "cells": [
  {
   "cell_type": "code",
   "execution_count": 1,
   "id": "b4f46eb8-e5fd-4885-99c7-7b2365ffca24",
   "metadata": {},
   "outputs": [],
   "source": [
    "import pandas as pd\n",
    "import numpy as np"
   ]
  },
  {
   "cell_type": "code",
   "execution_count": 2,
   "id": "08e976b5-6afc-479c-8588-6f6e6c3f1a76",
   "metadata": {},
   "outputs": [
    {
     "data": {
      "text/html": [
       "<div>\n",
       "<style scoped>\n",
       "    .dataframe tbody tr th:only-of-type {\n",
       "        vertical-align: middle;\n",
       "    }\n",
       "\n",
       "    .dataframe tbody tr th {\n",
       "        vertical-align: top;\n",
       "    }\n",
       "\n",
       "    .dataframe thead th {\n",
       "        text-align: right;\n",
       "    }\n",
       "</style>\n",
       "<table border=\"1\" class=\"dataframe\">\n",
       "  <thead>\n",
       "    <tr style=\"text-align: right;\">\n",
       "      <th></th>\n",
       "      <th>month</th>\n",
       "      <th>Mmm</th>\n",
       "      <th>quarter</th>\n",
       "      <th>fiscal_year</th>\n",
       "    </tr>\n",
       "  </thead>\n",
       "  <tbody>\n",
       "    <tr>\n",
       "      <th>0</th>\n",
       "      <td>2019-04-01</td>\n",
       "      <td>Apr</td>\n",
       "      <td>Q1</td>\n",
       "      <td>2019</td>\n",
       "    </tr>\n",
       "    <tr>\n",
       "      <th>1</th>\n",
       "      <td>2019-05-01</td>\n",
       "      <td>May</td>\n",
       "      <td>Q1</td>\n",
       "      <td>2019</td>\n",
       "    </tr>\n",
       "    <tr>\n",
       "      <th>2</th>\n",
       "      <td>2019-06-01</td>\n",
       "      <td>Jun</td>\n",
       "      <td>Q1</td>\n",
       "      <td>2019</td>\n",
       "    </tr>\n",
       "    <tr>\n",
       "      <th>3</th>\n",
       "      <td>2019-07-01</td>\n",
       "      <td>Jul</td>\n",
       "      <td>Q2</td>\n",
       "      <td>2019</td>\n",
       "    </tr>\n",
       "    <tr>\n",
       "      <th>4</th>\n",
       "      <td>2019-08-01</td>\n",
       "      <td>Aug</td>\n",
       "      <td>Q2</td>\n",
       "      <td>2019</td>\n",
       "    </tr>\n",
       "  </tbody>\n",
       "</table>\n",
       "</div>"
      ],
      "text/plain": [
       "        month  Mmm quarter  fiscal_year\n",
       "0  2019-04-01  Apr      Q1         2019\n",
       "1  2019-05-01  May      Q1         2019\n",
       "2  2019-06-01  Jun      Q1         2019\n",
       "3  2019-07-01  Jul      Q2         2019\n",
       "4  2019-08-01  Aug      Q2         2019"
      ]
     },
     "execution_count": 2,
     "metadata": {},
     "output_type": "execute_result"
    }
   ],
   "source": [
    "dim_date = pd.read_csv('D:\\\\Data Science\\\\Code basics\\\\Challenge\\\\Challenge_7\\\\dataset\\\\dim_date.csv')\n",
    "dim_date.head()"
   ]
  },
  {
   "cell_type": "code",
   "execution_count": 3,
   "id": "dbe9ac84-b489-4580-8dbd-6437ee4b47ed",
   "metadata": {},
   "outputs": [
    {
     "data": {
      "text/html": [
       "<div>\n",
       "<style scoped>\n",
       "    .dataframe tbody tr th:only-of-type {\n",
       "        vertical-align: middle;\n",
       "    }\n",
       "\n",
       "    .dataframe tbody tr th {\n",
       "        vertical-align: top;\n",
       "    }\n",
       "\n",
       "    .dataframe thead th {\n",
       "        text-align: right;\n",
       "    }\n",
       "</style>\n",
       "<table border=\"1\" class=\"dataframe\">\n",
       "  <thead>\n",
       "    <tr style=\"text-align: right;\">\n",
       "      <th></th>\n",
       "      <th>dist_code</th>\n",
       "      <th>district</th>\n",
       "    </tr>\n",
       "  </thead>\n",
       "  <tbody>\n",
       "    <tr>\n",
       "      <th>0</th>\n",
       "      <td>19_1</td>\n",
       "      <td>Adilabad</td>\n",
       "    </tr>\n",
       "    <tr>\n",
       "      <th>1</th>\n",
       "      <td>22_2</td>\n",
       "      <td>Bhadradri Kothagudem</td>\n",
       "    </tr>\n",
       "    <tr>\n",
       "      <th>2</th>\n",
       "      <td>21_1</td>\n",
       "      <td>Hanumakonda</td>\n",
       "    </tr>\n",
       "    <tr>\n",
       "      <th>3</th>\n",
       "      <td>16_1</td>\n",
       "      <td>Hyderabad</td>\n",
       "    </tr>\n",
       "    <tr>\n",
       "      <th>4</th>\n",
       "      <td>20_2</td>\n",
       "      <td>Jagtial</td>\n",
       "    </tr>\n",
       "  </tbody>\n",
       "</table>\n",
       "</div>"
      ],
      "text/plain": [
       "  dist_code              district\n",
       "0      19_1              Adilabad\n",
       "1      22_2  Bhadradri Kothagudem\n",
       "2      21_1           Hanumakonda\n",
       "3      16_1             Hyderabad\n",
       "4      20_2               Jagtial"
      ]
     },
     "execution_count": 3,
     "metadata": {},
     "output_type": "execute_result"
    }
   ],
   "source": [
    "dim_districts = pd.read_csv('D:\\\\Data Science\\\\Code basics\\\\Challenge\\\\Challenge_7\\\\dataset\\\\dim_districts.csv')\n",
    "dim_districts.head()"
   ]
  },
  {
   "cell_type": "code",
   "execution_count": 21,
   "id": "5b1a8f66-9aeb-4aab-bd27-4efd1c398b22",
   "metadata": {},
   "outputs": [
    {
     "data": {
      "text/plain": [
       "dist_code    33\n",
       "district     33\n",
       "dtype: int64"
      ]
     },
     "execution_count": 21,
     "metadata": {},
     "output_type": "execute_result"
    }
   ],
   "source": [
    "dim_districts.count()"
   ]
  },
  {
   "cell_type": "code",
   "execution_count": 4,
   "id": "fc58eac0-1eee-459e-bf35-a5461f4f0b88",
   "metadata": {},
   "outputs": [
    {
     "data": {
      "text/html": [
       "<div>\n",
       "<style scoped>\n",
       "    .dataframe tbody tr th:only-of-type {\n",
       "        vertical-align: middle;\n",
       "    }\n",
       "\n",
       "    .dataframe tbody tr th {\n",
       "        vertical-align: top;\n",
       "    }\n",
       "\n",
       "    .dataframe thead th {\n",
       "        text-align: right;\n",
       "    }\n",
       "</style>\n",
       "<table border=\"1\" class=\"dataframe\">\n",
       "  <thead>\n",
       "    <tr style=\"text-align: right;\">\n",
       "      <th></th>\n",
       "      <th>dist_code</th>\n",
       "      <th>month</th>\n",
       "      <th>documents_registered_cnt</th>\n",
       "      <th>documents_registered_rev</th>\n",
       "      <th>estamps_challans_cnt</th>\n",
       "      <th>estamps_challans_rev</th>\n",
       "    </tr>\n",
       "  </thead>\n",
       "  <tbody>\n",
       "    <tr>\n",
       "      <th>0</th>\n",
       "      <td>14_1</td>\n",
       "      <td>2019-04-01</td>\n",
       "      <td>4533</td>\n",
       "      <td>59236363</td>\n",
       "      <td>0</td>\n",
       "      <td>0</td>\n",
       "    </tr>\n",
       "    <tr>\n",
       "      <th>1</th>\n",
       "      <td>17_3</td>\n",
       "      <td>2019-04-01</td>\n",
       "      <td>4151</td>\n",
       "      <td>41508762</td>\n",
       "      <td>0</td>\n",
       "      <td>0</td>\n",
       "    </tr>\n",
       "    <tr>\n",
       "      <th>2</th>\n",
       "      <td>20_3</td>\n",
       "      <td>2019-04-01</td>\n",
       "      <td>2116</td>\n",
       "      <td>23674170</td>\n",
       "      <td>0</td>\n",
       "      <td>0</td>\n",
       "    </tr>\n",
       "    <tr>\n",
       "      <th>3</th>\n",
       "      <td>21_5</td>\n",
       "      <td>2019-04-01</td>\n",
       "      <td>1089</td>\n",
       "      <td>15915285</td>\n",
       "      <td>0</td>\n",
       "      <td>0</td>\n",
       "    </tr>\n",
       "    <tr>\n",
       "      <th>4</th>\n",
       "      <td>23_1</td>\n",
       "      <td>2019-04-01</td>\n",
       "      <td>6133</td>\n",
       "      <td>82593256</td>\n",
       "      <td>0</td>\n",
       "      <td>0</td>\n",
       "    </tr>\n",
       "  </tbody>\n",
       "</table>\n",
       "</div>"
      ],
      "text/plain": [
       "  dist_code       month  documents_registered_cnt  documents_registered_rev  \\\n",
       "0      14_1  2019-04-01                      4533                  59236363   \n",
       "1      17_3  2019-04-01                      4151                  41508762   \n",
       "2      20_3  2019-04-01                      2116                  23674170   \n",
       "3      21_5  2019-04-01                      1089                  15915285   \n",
       "4      23_1  2019-04-01                      6133                  82593256   \n",
       "\n",
       "   estamps_challans_cnt  estamps_challans_rev  \n",
       "0                     0                     0  \n",
       "1                     0                     0  \n",
       "2                     0                     0  \n",
       "3                     0                     0  \n",
       "4                     0                     0  "
      ]
     },
     "execution_count": 4,
     "metadata": {},
     "output_type": "execute_result"
    }
   ],
   "source": [
    "fact_stamps = pd.read_csv('D:\\\\Data Science\\\\Code basics\\\\Challenge\\\\Challenge_7\\\\dataset\\\\fact_stamps.csv')\n",
    "fact_stamps.head()"
   ]
  },
  {
   "cell_type": "code",
   "execution_count": 5,
   "id": "b4090d3e-f906-4e67-a48a-35599e2629cc",
   "metadata": {},
   "outputs": [
    {
     "data": {
      "text/html": [
       "<div>\n",
       "<style scoped>\n",
       "    .dataframe tbody tr th:only-of-type {\n",
       "        vertical-align: middle;\n",
       "    }\n",
       "\n",
       "    .dataframe tbody tr th {\n",
       "        vertical-align: top;\n",
       "    }\n",
       "\n",
       "    .dataframe thead th {\n",
       "        text-align: right;\n",
       "    }\n",
       "</style>\n",
       "<table border=\"1\" class=\"dataframe\">\n",
       "  <thead>\n",
       "    <tr style=\"text-align: right;\">\n",
       "      <th></th>\n",
       "      <th>dist_code</th>\n",
       "      <th>month</th>\n",
       "      <th>fuel_type_petrol</th>\n",
       "      <th>fuel_type_diesel</th>\n",
       "      <th>fuel_type_electric</th>\n",
       "      <th>fuel_type_others</th>\n",
       "      <th>vehicleClass_MotorCycle</th>\n",
       "      <th>vehicleClass_MotorCar</th>\n",
       "      <th>vehicleClass_AutoRickshaw</th>\n",
       "      <th>vehicleClass_Agriculture</th>\n",
       "      <th>vehicleClass_others</th>\n",
       "      <th>seatCapacity_1_to_3</th>\n",
       "      <th>seatCapacity_4_to_6</th>\n",
       "      <th>seatCapacity_above_6</th>\n",
       "      <th>Brand_new_vehicles</th>\n",
       "      <th>Pre-owned_vehicles</th>\n",
       "      <th>category_Non-Transport</th>\n",
       "      <th>category_Transport</th>\n",
       "    </tr>\n",
       "  </thead>\n",
       "  <tbody>\n",
       "    <tr>\n",
       "      <th>0</th>\n",
       "      <td>15_1</td>\n",
       "      <td>2019-04-01</td>\n",
       "      <td>17910</td>\n",
       "      <td>3011</td>\n",
       "      <td>76</td>\n",
       "      <td>22</td>\n",
       "      <td>15308</td>\n",
       "      <td>4429</td>\n",
       "      <td>0</td>\n",
       "      <td>4</td>\n",
       "      <td>1278</td>\n",
       "      <td>16110</td>\n",
       "      <td>4182</td>\n",
       "      <td>717</td>\n",
       "      <td>19542</td>\n",
       "      <td>1477</td>\n",
       "      <td>19856</td>\n",
       "      <td>1163</td>\n",
       "    </tr>\n",
       "    <tr>\n",
       "      <th>1</th>\n",
       "      <td>18_2</td>\n",
       "      <td>2019-04-01</td>\n",
       "      <td>3066</td>\n",
       "      <td>306</td>\n",
       "      <td>6</td>\n",
       "      <td>0</td>\n",
       "      <td>2995</td>\n",
       "      <td>142</td>\n",
       "      <td>49</td>\n",
       "      <td>64</td>\n",
       "      <td>128</td>\n",
       "      <td>3156</td>\n",
       "      <td>189</td>\n",
       "      <td>33</td>\n",
       "      <td>3322</td>\n",
       "      <td>56</td>\n",
       "      <td>3203</td>\n",
       "      <td>175</td>\n",
       "    </tr>\n",
       "    <tr>\n",
       "      <th>2</th>\n",
       "      <td>20_3</td>\n",
       "      <td>2019-04-01</td>\n",
       "      <td>1577</td>\n",
       "      <td>215</td>\n",
       "      <td>0</td>\n",
       "      <td>0</td>\n",
       "      <td>1546</td>\n",
       "      <td>79</td>\n",
       "      <td>29</td>\n",
       "      <td>21</td>\n",
       "      <td>117</td>\n",
       "      <td>1683</td>\n",
       "      <td>104</td>\n",
       "      <td>5</td>\n",
       "      <td>1751</td>\n",
       "      <td>41</td>\n",
       "      <td>1648</td>\n",
       "      <td>144</td>\n",
       "    </tr>\n",
       "    <tr>\n",
       "      <th>3</th>\n",
       "      <td>21_3</td>\n",
       "      <td>2019-04-01</td>\n",
       "      <td>1961</td>\n",
       "      <td>281</td>\n",
       "      <td>2</td>\n",
       "      <td>0</td>\n",
       "      <td>1939</td>\n",
       "      <td>72</td>\n",
       "      <td>72</td>\n",
       "      <td>48</td>\n",
       "      <td>113</td>\n",
       "      <td>2082</td>\n",
       "      <td>146</td>\n",
       "      <td>16</td>\n",
       "      <td>2209</td>\n",
       "      <td>35</td>\n",
       "      <td>2075</td>\n",
       "      <td>169</td>\n",
       "    </tr>\n",
       "    <tr>\n",
       "      <th>4</th>\n",
       "      <td>21_7</td>\n",
       "      <td>2019-04-01</td>\n",
       "      <td>1552</td>\n",
       "      <td>309</td>\n",
       "      <td>0</td>\n",
       "      <td>0</td>\n",
       "      <td>1512</td>\n",
       "      <td>76</td>\n",
       "      <td>69</td>\n",
       "      <td>109</td>\n",
       "      <td>95</td>\n",
       "      <td>1696</td>\n",
       "      <td>145</td>\n",
       "      <td>20</td>\n",
       "      <td>1820</td>\n",
       "      <td>41</td>\n",
       "      <td>1701</td>\n",
       "      <td>160</td>\n",
       "    </tr>\n",
       "  </tbody>\n",
       "</table>\n",
       "</div>"
      ],
      "text/plain": [
       "  dist_code       month  fuel_type_petrol  fuel_type_diesel  \\\n",
       "0      15_1  2019-04-01             17910              3011   \n",
       "1      18_2  2019-04-01              3066               306   \n",
       "2      20_3  2019-04-01              1577               215   \n",
       "3      21_3  2019-04-01              1961               281   \n",
       "4      21_7  2019-04-01              1552               309   \n",
       "\n",
       "   fuel_type_electric  fuel_type_others  vehicleClass_MotorCycle  \\\n",
       "0                  76                22                    15308   \n",
       "1                   6                 0                     2995   \n",
       "2                   0                 0                     1546   \n",
       "3                   2                 0                     1939   \n",
       "4                   0                 0                     1512   \n",
       "\n",
       "   vehicleClass_MotorCar  vehicleClass_AutoRickshaw  vehicleClass_Agriculture  \\\n",
       "0                   4429                          0                         4   \n",
       "1                    142                         49                        64   \n",
       "2                     79                         29                        21   \n",
       "3                     72                         72                        48   \n",
       "4                     76                         69                       109   \n",
       "\n",
       "   vehicleClass_others  seatCapacity_1_to_3  seatCapacity_4_to_6  \\\n",
       "0                 1278                16110                 4182   \n",
       "1                  128                 3156                  189   \n",
       "2                  117                 1683                  104   \n",
       "3                  113                 2082                  146   \n",
       "4                   95                 1696                  145   \n",
       "\n",
       "   seatCapacity_above_6  Brand_new_vehicles  Pre-owned_vehicles  \\\n",
       "0                   717               19542                1477   \n",
       "1                    33                3322                  56   \n",
       "2                     5                1751                  41   \n",
       "3                    16                2209                  35   \n",
       "4                    20                1820                  41   \n",
       "\n",
       "   category_Non-Transport  category_Transport  \n",
       "0                   19856                1163  \n",
       "1                    3203                 175  \n",
       "2                    1648                 144  \n",
       "3                    2075                 169  \n",
       "4                    1701                 160  "
      ]
     },
     "execution_count": 5,
     "metadata": {},
     "output_type": "execute_result"
    }
   ],
   "source": [
    "fact_transport = pd.read_csv('D:\\\\Data Science\\\\Code basics\\\\Challenge\\\\Challenge_7\\\\dataset\\\\fact_transport.csv')\n",
    "fact_transport.head()"
   ]
  },
  {
   "cell_type": "code",
   "execution_count": 6,
   "id": "bc113330-fcf9-4c75-80f3-afb0c5666f16",
   "metadata": {},
   "outputs": [
    {
     "data": {
      "text/html": [
       "<div>\n",
       "<style scoped>\n",
       "    .dataframe tbody tr th:only-of-type {\n",
       "        vertical-align: middle;\n",
       "    }\n",
       "\n",
       "    .dataframe tbody tr th {\n",
       "        vertical-align: top;\n",
       "    }\n",
       "\n",
       "    .dataframe thead th {\n",
       "        text-align: right;\n",
       "    }\n",
       "</style>\n",
       "<table border=\"1\" class=\"dataframe\">\n",
       "  <thead>\n",
       "    <tr style=\"text-align: right;\">\n",
       "      <th></th>\n",
       "      <th>dist_code</th>\n",
       "      <th>month</th>\n",
       "      <th>sector</th>\n",
       "      <th>investment in cr</th>\n",
       "      <th>number_of_employees</th>\n",
       "    </tr>\n",
       "  </thead>\n",
       "  <tbody>\n",
       "    <tr>\n",
       "      <th>0</th>\n",
       "      <td>14_1</td>\n",
       "      <td>01-04-2019</td>\n",
       "      <td>Engineering</td>\n",
       "      <td>2.3200</td>\n",
       "      <td>15</td>\n",
       "    </tr>\n",
       "    <tr>\n",
       "      <th>1</th>\n",
       "      <td>19_1</td>\n",
       "      <td>01-04-2019</td>\n",
       "      <td>Engineering</td>\n",
       "      <td>0.6250</td>\n",
       "      <td>13</td>\n",
       "    </tr>\n",
       "    <tr>\n",
       "      <th>2</th>\n",
       "      <td>20_3</td>\n",
       "      <td>01-04-2019</td>\n",
       "      <td>Wood and Leather</td>\n",
       "      <td>0.2000</td>\n",
       "      <td>8</td>\n",
       "    </tr>\n",
       "    <tr>\n",
       "      <th>3</th>\n",
       "      <td>20_3</td>\n",
       "      <td>01-04-2019</td>\n",
       "      <td>Textiles</td>\n",
       "      <td>0.2675</td>\n",
       "      <td>27</td>\n",
       "    </tr>\n",
       "    <tr>\n",
       "      <th>4</th>\n",
       "      <td>21_5</td>\n",
       "      <td>01-04-2019</td>\n",
       "      <td>Electrical and Electronic Products</td>\n",
       "      <td>0.1200</td>\n",
       "      <td>5</td>\n",
       "    </tr>\n",
       "  </tbody>\n",
       "</table>\n",
       "</div>"
      ],
      "text/plain": [
       "  dist_code       month                              sector  investment in cr  \\\n",
       "0      14_1  01-04-2019                         Engineering            2.3200   \n",
       "1      19_1  01-04-2019                         Engineering            0.6250   \n",
       "2      20_3  01-04-2019                    Wood and Leather            0.2000   \n",
       "3      20_3  01-04-2019                            Textiles            0.2675   \n",
       "4      21_5  01-04-2019  Electrical and Electronic Products            0.1200   \n",
       "\n",
       "   number_of_employees  \n",
       "0                   15  \n",
       "1                   13  \n",
       "2                    8  \n",
       "3                   27  \n",
       "4                    5  "
      ]
     },
     "execution_count": 6,
     "metadata": {},
     "output_type": "execute_result"
    }
   ],
   "source": [
    "fact_TS_iPASS = pd.read_csv('D:\\\\Data Science\\\\Code basics\\\\Challenge\\\\Challenge_7\\\\dataset\\\\fact_TS_iPASS.csv')\n",
    "fact_TS_iPASS.head()"
   ]
  },
  {
   "cell_type": "code",
   "execution_count": 7,
   "id": "cc00d4fd-8f7b-4071-8a37-f2383589449a",
   "metadata": {},
   "outputs": [
    {
     "data": {
      "text/plain": [
       "month          0\n",
       "Mmm            0\n",
       "quarter        0\n",
       "fiscal_year    0\n",
       "dtype: int64"
      ]
     },
     "execution_count": 7,
     "metadata": {},
     "output_type": "execute_result"
    }
   ],
   "source": [
    "dim_date.isnull().sum()"
   ]
  },
  {
   "cell_type": "code",
   "execution_count": 8,
   "id": "7c587273-5948-4768-bfe7-4443dcbb1398",
   "metadata": {},
   "outputs": [
    {
     "data": {
      "text/plain": [
       "dist_code    0\n",
       "district     0\n",
       "dtype: int64"
      ]
     },
     "execution_count": 8,
     "metadata": {},
     "output_type": "execute_result"
    }
   ],
   "source": [
    "dim_districts.isnull().sum()"
   ]
  },
  {
   "cell_type": "code",
   "execution_count": 9,
   "id": "30e64721-1e68-409a-af3a-a39edb051524",
   "metadata": {},
   "outputs": [
    {
     "data": {
      "text/plain": [
       "dist_code                   0\n",
       "month                       0\n",
       "documents_registered_cnt    0\n",
       "documents_registered_rev    0\n",
       "estamps_challans_cnt        0\n",
       "estamps_challans_rev        0\n",
       "dtype: int64"
      ]
     },
     "execution_count": 9,
     "metadata": {},
     "output_type": "execute_result"
    }
   ],
   "source": [
    "fact_stamps.isnull().sum()"
   ]
  },
  {
   "cell_type": "code",
   "execution_count": 10,
   "id": "c60029eb-bdca-4d3f-9fe2-e7ee5acf5710",
   "metadata": {},
   "outputs": [
    {
     "data": {
      "text/plain": [
       "dist_code                    0\n",
       "month                        0\n",
       "fuel_type_petrol             0\n",
       "fuel_type_diesel             0\n",
       "fuel_type_electric           0\n",
       "fuel_type_others             0\n",
       "vehicleClass_MotorCycle      0\n",
       "vehicleClass_MotorCar        0\n",
       "vehicleClass_AutoRickshaw    0\n",
       "vehicleClass_Agriculture     0\n",
       "vehicleClass_others          0\n",
       "seatCapacity_1_to_3          0\n",
       "seatCapacity_4_to_6          0\n",
       "seatCapacity_above_6         0\n",
       "Brand_new_vehicles           0\n",
       "Pre-owned_vehicles           0\n",
       "category_Non-Transport       0\n",
       "category_Transport           0\n",
       "dtype: int64"
      ]
     },
     "execution_count": 10,
     "metadata": {},
     "output_type": "execute_result"
    }
   ],
   "source": [
    "fact_transport.isnull().sum()"
   ]
  },
  {
   "cell_type": "code",
   "execution_count": 11,
   "id": "a0605425-d482-4b87-ae06-650ab27c67e3",
   "metadata": {},
   "outputs": [
    {
     "data": {
      "text/plain": [
       "dist_code              0\n",
       "month                  0\n",
       "sector                 0\n",
       "investment in cr       0\n",
       "number_of_employees    0\n",
       "dtype: int64"
      ]
     },
     "execution_count": 11,
     "metadata": {},
     "output_type": "execute_result"
    }
   ],
   "source": [
    "fact_TS_iPASS.isnull().sum()"
   ]
  }
 ],
 "metadata": {
  "kernelspec": {
   "display_name": "Python 3 (ipykernel)",
   "language": "python",
   "name": "python3"
  },
  "language_info": {
   "codemirror_mode": {
    "name": "ipython",
    "version": 3
   },
   "file_extension": ".py",
   "mimetype": "text/x-python",
   "name": "python",
   "nbconvert_exporter": "python",
   "pygments_lexer": "ipython3",
   "version": "3.10.12"
  },
  "widgets": {
   "application/vnd.jupyter.widget-state+json": {
    "state": {},
    "version_major": 2,
    "version_minor": 0
   }
  }
 },
 "nbformat": 4,
 "nbformat_minor": 5
}
